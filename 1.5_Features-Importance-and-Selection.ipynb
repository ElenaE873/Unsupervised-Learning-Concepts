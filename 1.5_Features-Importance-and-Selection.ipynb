{
 "cells": [
  {
   "cell_type": "markdown",
   "id": "c1ecd1db",
   "metadata": {},
   "source": [
    "#### Feature Importance"
   ]
  },
  {
   "cell_type": "markdown",
   "id": "4d77aaf2",
   "metadata": {},
   "source": [
    "- techniques used to assign a score to features based on how useful they are at predicting a variable"
   ]
  },
  {
   "cell_type": "markdown",
   "id": "92ec2d33",
   "metadata": {},
   "source": [
    "### Feature Selection"
   ]
  },
  {
   "cell_type": "markdown",
   "id": "775d1265",
   "metadata": {},
   "source": [
    "- process by which features are automaticlaly selected to contribute the most to the target"
   ]
  },
  {
   "cell_type": "markdown",
   "id": "7949ae52",
   "metadata": {},
   "source": [
    "### And Feature Extraction"
   ]
  },
  {
   "cell_type": "markdown",
   "id": "cb9a7de7",
   "metadata": {},
   "source": [
    "- this is a feature reduction process\n",
    "- **transforms** the features\n",
    "- selecting for or combining variables into features\n",
    "- in other words: combining attributes into a new reduced set of features"
   ]
  }
 ],
 "metadata": {
  "kernelspec": {
   "display_name": "Python 3 (ipykernel)",
   "language": "python",
   "name": "python3"
  },
  "language_info": {
   "codemirror_mode": {
    "name": "ipython",
    "version": 3
   },
   "file_extension": ".py",
   "mimetype": "text/x-python",
   "name": "python",
   "nbconvert_exporter": "python",
   "pygments_lexer": "ipython3",
   "version": "3.9.7"
  }
 },
 "nbformat": 4,
 "nbformat_minor": 5
}
