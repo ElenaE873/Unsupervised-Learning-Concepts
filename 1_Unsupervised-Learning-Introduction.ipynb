{
 "cells": [
  {
   "cell_type": "markdown",
   "id": "e190a1c1",
   "metadata": {},
   "source": [
    "Unsupervised Learning functions to:\n",
    "- finds the structure or pattern in data but **without** a specific predictive task in mind\n",
    "- deals with **unlabeled** data (ie. the target variable is not defined)\n",
    "- commonly stated as \"learning without labels\"\n",
    "- the aim: \n",
    "    - to draw similarities between the data and separate them into groups having unique labels"
   ]
  },
  {
   "cell_type": "markdown",
   "id": "702f3f9f",
   "metadata": {},
   "source": [
    "#### Arrays | Features | Samples"
   ]
  },
  {
   "cell_type": "markdown",
   "id": "0c6746a9",
   "metadata": {},
   "source": [
    "- 2D Numpy Array\n",
    "- COLUMNS: the features\n",
    "- ROWS: the samples\n",
    "- DIMENSION of the dataset: number of features"
   ]
  },
  {
   "cell_type": "markdown",
   "id": "641fee38",
   "metadata": {},
   "source": [
    "### Use Cases of Unsupervised Learning"
   ]
  },
  {
   "cell_type": "markdown",
   "id": "f6867439",
   "metadata": {},
   "source": [
    "- 1 - Labelling large datases\n",
    "- 2 - Data Mining to determine what kinds of classes may be present in the data\n",
    "- 3 - Gain insight into the structure of the data by using clustering methodologies"
   ]
  },
  {
   "cell_type": "markdown",
   "id": "09cb8962",
   "metadata": {},
   "source": [
    "Examples:\n",
    "- Customer Segmentation\n",
    "- Social Network Analysis\n",
    "- Astronomical Data Analysis"
   ]
  },
  {
   "cell_type": "markdown",
   "id": "89408b01",
   "metadata": {},
   "source": [
    "### Can be broadly split into 2 Main Types:"
   ]
  },
  {
   "cell_type": "markdown",
   "id": "93cd8c47",
   "metadata": {},
   "source": [
    "- Clustering\n",
    "- Dimentionality Reduction"
   ]
  }
 ],
 "metadata": {
  "kernelspec": {
   "display_name": "Python 3 (ipykernel)",
   "language": "python",
   "name": "python3"
  },
  "language_info": {
   "codemirror_mode": {
    "name": "ipython",
    "version": 3
   },
   "file_extension": ".py",
   "mimetype": "text/x-python",
   "name": "python",
   "nbconvert_exporter": "python",
   "pygments_lexer": "ipython3",
   "version": "3.9.7"
  }
 },
 "nbformat": 4,
 "nbformat_minor": 5
}
