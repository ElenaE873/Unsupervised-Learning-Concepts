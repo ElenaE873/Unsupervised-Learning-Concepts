{
 "cells": [
  {
   "cell_type": "markdown",
   "id": "00af52db",
   "metadata": {},
   "source": [
    "2 Unsupervised learning techniques for visualization:\n",
    "- hierarchical clustering\n",
    "- t-SNE: \"t-distributed stochastic neighbor embedding\"\n",
    "    - this creates a 2D map of any dataset, and conveys info about the proximity of the samples to one another"
   ]
  },
  {
   "cell_type": "markdown",
   "id": "b382ea4b",
   "metadata": {},
   "source": [
    "### Hiearchical Clustering"
   ]
  },
  {
   "cell_type": "markdown",
   "id": "eace2ab2",
   "metadata": {},
   "source": [
    "- arranges clusters on a hierarchical design\n"
   ]
  },
  {
   "cell_type": "code",
   "execution_count": null,
   "id": "bd831b4a",
   "metadata": {},
   "outputs": [],
   "source": [
    "#import the linkage and dendogram functions\n",
    "import matplotlib.pyplot as plt\n",
    "from scipy.cluster.hierarchy import linkage, dendrogram\n",
    "\n",
    "#the linkage function perform the hierarchical clustering\n",
    "mergings = linkage(data, \n",
    "                   method='complete')\n",
    "\n",
    "#passing the output of the linkage function to the dendogram function\n",
    "dendrogram(mergings,\n",
    "         labels = label_name,\n",
    "         leaf_rotation=90,\n",
    "         leaf_font_size=6)\n",
    "\n",
    "plt.show()"
   ]
  },
  {
   "cell_type": "code",
   "execution_count": null,
   "id": "f04a08b3",
   "metadata": {},
   "outputs": [],
   "source": [
    "#using the Normalizer\n",
    "#Normalize the movements: normalized_movements\n",
    "normalized_movements = normalize(movements)\n",
    "\n",
    "#the linkage: mergings\n",
    "mergings = linkage(normalized_movements, method='complete')"
   ]
  },
  {
   "cell_type": "markdown",
   "id": "a66ca4e3",
   "metadata": {},
   "source": [
    "#### Dendrograms"
   ]
  },
  {
   "cell_type": "markdown",
   "id": "59071d7d",
   "metadata": {},
   "source": [
    "- height on dendrogram **coresponds** with a distance between merging clusters"
   ]
  },
  {
   "attachments": {
    "image.png": {
     "image/png": "[encoded data removed]"
    }
   },
   "cell_type": "markdown",
   "id": "9c589495",
   "metadata": {},
   "source": [
    "example, here we an see the distance was 6 when they were merged into a cluster ![image.png](attachment:image.png)"
   ]
  },
  {
   "cell_type": "markdown",
   "id": "bf57e84f",
   "metadata": {},
   "source": [
    "The distance between two clusters is measured/defined by the \"linkage\" method"
   ]
  },
  {
   "cell_type": "markdown",
   "id": "ecc5c732",
   "metadata": {},
   "source": [
    "- \"**complete linkage**\" is when the distance between clusters is max."
   ]
  },
  {
   "cell_type": "markdown",
   "id": "06b0f05e",
   "metadata": {},
   "source": [
    "#### Extracting Cluster Labels using \"fcluster()\""
   ]
  },
  {
   "cell_type": "code",
   "execution_count": null,
   "id": "850dbf81",
   "metadata": {},
   "outputs": [],
   "source": [
    "#conduct a complete linkage\n",
    "from scipy.cluster.hierarchy import linkage\n",
    "mergings = linkage(data, method='complete')\n",
    "\n",
    "from scipy.cluster.hierarchy import fcluster\n",
    "labels = fcluster(mergings, \n",
    "                  15, #maximum height\n",
    "                  criterion='distance')"
   ]
  },
  {
   "cell_type": "code",
   "execution_count": null,
   "id": "6c11efb0",
   "metadata": {},
   "outputs": [],
   "source": [
    "#aligning cluster labels with categories\n",
    "import pandas as pd\n",
    "pairs = pd.DataFrame({'labels': labels, 'varieties': varieties})"
   ]
  },
  {
   "cell_type": "markdown",
   "id": "9d354f95",
   "metadata": {},
   "source": [
    "### t-SNE"
   ]
  },
  {
   "cell_type": "code",
   "execution_count": null,
   "id": "f579be4b",
   "metadata": {},
   "outputs": [],
   "source": [
    "#import libraries\n",
    "import matplotlib.pyplot as plt\n",
    "from sklearn.manifold import TSNE\n",
    "\n",
    "#create a TSNE object\n",
    "model = TSNE(learning_rate=100)\n",
    "\n",
    "#apply fit method to the samples\n",
    "transformed = model.fit_transform(samples)\n",
    "    #simultaneous fits the model and transforms the data\n",
    "    #does not have a separate fit() / transform() methods\n",
    "\n",
    "#make a scatter plot of the result\n",
    "xs = transformed[:, 0]\n",
    "ys = transformed[:, 1]\n",
    "plot.scatter(xs, ys, c=categories)\n",
    "plot.show()"
   ]
  },
  {
   "cell_type": "markdown",
   "id": "74d5a089",
   "metadata": {},
   "source": [
    "#### t-SNE learning rate"
   ]
  },
  {
   "cell_type": "markdown",
   "id": "6cf6d7d9",
   "metadata": {},
   "source": [
    "- Makes t-SNE more complicated than other learning models\n",
    "- this is why clustering modeling should be wisely choosen based on the dataset"
   ]
  }
 ],
 "metadata": {
  "kernelspec": {
   "display_name": "Python 3 (ipykernel)",
   "language": "python",
   "name": "python3"
  },
  "language_info": {
   "codemirror_mode": {
    "name": "ipython",
    "version": 3
   },
   "file_extension": ".py",
   "mimetype": "text/x-python",
   "name": "python",
   "nbconvert_exporter": "python",
   "pygments_lexer": "ipython3",
   "version": "3.9.7"
  }
 },
 "nbformat": 4,
 "nbformat_minor": 5
}
