{
 "cells": [
  {
   "cell_type": "markdown",
   "id": "76433905",
   "metadata": {},
   "source": [
    "### NMF"
   ]
  },
  {
   "cell_type": "markdown",
   "id": "2e184a03",
   "metadata": {},
   "source": [
    "- it is a type of dimension reduction technique\n",
    "- NMF models are \"interpretable\" (unlike PCA)\n"
   ]
  },
  {
   "cell_type": "code",
   "execution_count": null,
   "id": "a1b86962",
   "metadata": {},
   "outputs": [],
   "source": [
    "#importing NMF\n",
    "from sklearn.decomposition import NMF\n",
    "\n",
    "#the NMF model instance and fitting\n",
    "model = NMF(n_components=6)\n",
    "model.fit(data)\n",
    "\n",
    "#transforming\n",
    "nmf_features = model.transform(data)\n",
    "\n",
    "#NMF features\n",
    "print(nmf_features.round(2))"
   ]
  }
 ],
 "metadata": {
  "kernelspec": {
   "display_name": "Python 3 (ipykernel)",
   "language": "python",
   "name": "python3"
  },
  "language_info": {
   "codemirror_mode": {
    "name": "ipython",
    "version": 3
   },
   "file_extension": ".py",
   "mimetype": "text/x-python",
   "name": "python",
   "nbconvert_exporter": "python",
   "pygments_lexer": "ipython3",
   "version": "3.9.7"
  }
 },
 "nbformat": 4,
 "nbformat_minor": 5
}
