{
 "cells": [
  {
   "cell_type": "markdown",
   "id": "6d4f4d9c",
   "metadata": {},
   "source": [
    "### KMeans"
   ]
  },
  {
   "cell_type": "markdown",
   "id": "b870f9c1",
   "metadata": {},
   "source": [
    "- solves one of the biggest draw-backs of hierarchical clustering, runtime\n",
    "- runs significantly faster on large datasets\n",
    "- finds clusters of samples\n",
    "- number of clusters must be specified\n",
    "- implemented in scikit-learn library"
   ]
  },
  {
   "cell_type": "code",
   "execution_count": null,
   "id": "c0a7bc14",
   "metadata": {},
   "outputs": [],
   "source": [
    "#Step 1 - Generate Cluster Centers (kmeans function)\n",
    "#takes the following arguments\n",
    "\n",
    "kmeans(obs,           #list of observations standardized through \"whiten\" method\n",
    "       k_or_guess,    #number of clusters\n",
    "       iter,          #number of iterations(default:20)\n",
    "       thresh,  \n",
    "       #algorithm is terminated IF the change in \"distortion\" since the last k-means iteration\n",
    "       #is less than or equal to the threshold (0.00001)\n",
    "       check_finite)  \n",
    "        #whether a check needs to be performed on the data \n",
    "        #if observations contain only finite numbers (default:True)\n",
    "\n",
    "#the result returns:\n",
    "# 1 - cluster centers\n",
    "# 2 - a single distortion"
   ]
  },
  {
   "cell_type": "code",
   "execution_count": null,
   "id": "bcd39fa2",
   "metadata": {},
   "outputs": [],
   "source": [
    "#Step 2 - Generate Cluster Labels (vq function)\n",
    "#takes the following arguments\n",
    "\n",
    "vq(obs,             #standardized observations using \"whiten\" method\n",
    "  code_book,        #cluster centers\n",
    "  check_finite=True)\n",
    "  #same as above\n",
    "    \n",
    "#the function returns:\n",
    "# 1 - a list of cluter labels\n",
    "# 2 - a list of distortions\n",
    "\n",
    "#Checkpoint: the mean of the LIST of distortions here should appx equal the distortion value of kmeans\n",
    "#if the same list of observations is passed through both"
   ]
  },
  {
   "cell_type": "code",
   "execution_count": null,
   "id": "79a4d08c",
   "metadata": {},
   "outputs": [],
   "source": [
    "#Running KMeans in Python\n",
    "\n",
    "#import libraries\n",
    "from scipy.cluster.vq import kmeans, vq\n",
    "\n",
    "#generate clusters and labels\n",
    "cluster_centers, _ = kmeans(df[['scaled_x', 'scaled_y']], 3)\n",
    "\n",
    "df['cluster_labels'], _ = vq(df[['scaled_x', 'scaled_y']], cluster_centers)\n",
    "\n",
    "#display scatter plot with seaborn\n",
    "sns.scatterplot(x='scaled_x', y='scaled_y', hue='cluster_labels', data=df)\n",
    "plot.show()"
   ]
  },
  {
   "cell_type": "markdown",
   "id": "7ac84956",
   "metadata": {},
   "source": [
    "##### running the modeling"
   ]
  },
  {
   "cell_type": "code",
   "execution_count": null,
   "id": "e0df1be6",
   "metadata": {},
   "outputs": [],
   "source": [
    "#import library package\n",
    "from sklearn.cluster import KMeans\n",
    "\n",
    "#define a KMeans model defined with number of clusters desired to accomplish\n",
    "model = KMeans(n_clusters=3)\n",
    "\n",
    "#call the fit array by passing the number of samples/df\n",
    "model.fit(samples)\n",
    "\n",
    "#call the predict method on the samples\n",
    "labels = model.predict(samples)\n",
    "#returning a cluster label determining what cluster the samples belong to"
   ]
  },
  {
   "cell_type": "markdown",
   "id": "8e5c42cc",
   "metadata": {},
   "source": [
    "#### K Means and Centroids"
   ]
  },
  {
   "cell_type": "markdown",
   "id": "d76baa2c",
   "metadata": {},
   "source": [
    "- New samples can be assigned to existing clusters because kmeans actually remembers the mean (\"Centroid\") of each cluster.  **New samples are assigned to the cluster whose centroid is closest.**"
   ]
  },
  {
   "cell_type": "code",
   "execution_count": null,
   "id": "1f561e65",
   "metadata": {},
   "outputs": [],
   "source": [
    "#to apply the new samples to the clusters\n",
    "#re apply the predict method to the new samples\n",
    "new_labels = model.predict(new_samples)"
   ]
  },
  {
   "cell_type": "markdown",
   "id": "066d4ddb",
   "metadata": {},
   "source": [
    "#### Visualizing Clusters"
   ]
  },
  {
   "cell_type": "code",
   "execution_count": null,
   "id": "01172fb3",
   "metadata": {},
   "outputs": [],
   "source": [
    "import matplotlib.pyplot as plt\n",
    "xs = samples[:, 0] #all rows for column with index 0 (column1)\n",
    "ys = samples[:, 2] #all rows for column with index 2 (column3)\n",
    "\n",
    "plt.scatter(xs, ys, \n",
    "            c=labels)  #to color by cluster labels\n",
    "plot.show()"
   ]
  },
  {
   "cell_type": "code",
   "execution_count": null,
   "id": "eed2ced0",
   "metadata": {},
   "outputs": [],
   "source": [
    "# Assign the cluster centers: centroids\n",
    "centroids = model.cluster_centers_\n",
    "\n",
    "# Assign the columns of centroids: centroids_x, centroids_y\n",
    "centroids_x = centroids[:,0]\n",
    "centroids_y = centroids[:,1]\n",
    "\n",
    "# Make a scatter plot of centroids_x and centroids_y\n",
    "plt.scatter(centroids_x, centroids_y, marker='D', s=50)\n",
    "plt.show()"
   ]
  },
  {
   "cell_type": "markdown",
   "id": "1668f88e",
   "metadata": {},
   "source": [
    "#### Evaluating Clustering"
   ]
  },
  {
   "cell_type": "markdown",
   "id": "37fb4ae5",
   "metadata": {},
   "source": [
    "##### aligining labels and types of categories we want to look into"
   ]
  },
  {
   "cell_type": "code",
   "execution_count": null,
   "id": "efddac45",
   "metadata": {},
   "outputs": [],
   "source": [
    "import pandas as pd\n",
    "df = pd.DataFrame({\n",
    "    'labels' : lables\n",
    "    'categories' : categories\n",
    "})"
   ]
  },
  {
   "cell_type": "markdown",
   "id": "4f31ece6",
   "metadata": {},
   "source": [
    "##### Crosstab of labels and categories"
   ]
  },
  {
   "cell_type": "code",
   "execution_count": null,
   "id": "3fa36e8b",
   "metadata": {},
   "outputs": [],
   "source": [
    "ct = pd.crosstab(df['labels'], df['categories'])"
   ]
  },
  {
   "cell_type": "markdown",
   "id": "7a672079",
   "metadata": {},
   "source": [
    "- This ideally should give an idea of how the labels to categories correspondence looks like and if it is reasonably clustered"
   ]
  },
  {
   "attachments": {
    "image.png": {
     "image/png": "[encoded data removed]"
    }
   },
   "cell_type": "markdown",
   "id": "15f0280e",
   "metadata": {},
   "source": [
    "Example grid ![image.png](attachment:image.png)"
   ]
  },
  {
   "cell_type": "markdown",
   "id": "36fcac28",
   "metadata": {},
   "source": [
    "- However, sometimes categories like this may not be available to test the quality of the clusters"
   ]
  },
  {
   "cell_type": "markdown",
   "id": "46149e62",
   "metadata": {},
   "source": [
    "In which case we need to use the samples and their cluster labels to determine the quality."
   ]
  },
  {
   "cell_type": "markdown",
   "id": "00c2ed3a",
   "metadata": {},
   "source": [
    "#### How to find the right number of Clusters - the Elbow Method"
   ]
  },
  {
   "cell_type": "markdown",
   "id": "4b6d8735",
   "metadata": {},
   "source": [
    "The Elbow plot can be seen below:\n",
    "- graphs the number of clusters versus distortion\n",
    "- ONLY gives an INDICATION of optimal_k_(number of clusters)\n",
    "- it sometimes fails when the data is evenly distributed\n",
    "    - other methods may be used in this case: average silhouette or gap statistic"
   ]
  },
  {
   "cell_type": "code",
   "execution_count": null,
   "id": "c8be8dfd",
   "metadata": {},
   "outputs": [],
   "source": [
    "#declaring variables\n",
    "distortions = []\n",
    "num_clusters = range(2,7)\n",
    "\n",
    "#populating distortions from various clusters\n",
    "for i in num_clusters:\n",
    "    centroids, distortion = kmeans(df[['scaled_x', 'scaled_y']], i)\n",
    "    distortions.append(distortion)\n",
    "    \n",
    "#plotting the elbow plot data\n",
    "elbow_plot_data = pd.DataFrame({'num_clusters': num_clusters,\n",
    "                               'distortions': distortions})\n",
    "\n",
    "sns.lineplot(x='num_clusters', y='distortions',\n",
    "            data=elbow_plot_data)\n",
    "plt.show()"
   ]
  },
  {
   "cell_type": "markdown",
   "id": "115b48de",
   "metadata": {},
   "source": [
    "#### A good cluster is a Tight Cluster"
   ]
  },
  {
   "cell_type": "markdown",
   "id": "bd8a5626",
   "metadata": {},
   "source": [
    "How spread out the clusters are can be meansured by the **Inertia**.\n",
    "- Inertia measures how far the sample is from the centroid\n",
    "- the lower the better, small distances\n",
    "- K-means attempts to minimize the inertia when choosing clusters"
   ]
  },
  {
   "cell_type": "code",
   "execution_count": null,
   "id": "2d0fc15b",
   "metadata": {},
   "outputs": [],
   "source": [
    "from sklearn.cluster import KMeans\n",
    "\n",
    "model = KMeans(n_clusters=3)\n",
    "model.fit(samples)\n",
    "print(model.inertia_)"
   ]
  },
  {
   "cell_type": "markdown",
   "id": "f0022153",
   "metadata": {},
   "source": [
    "#### The Trade-off"
   ]
  },
  {
   "cell_type": "markdown",
   "id": "2a9e15be",
   "metadata": {},
   "source": [
    "- a good cluster with low inertia (ie. tight) will have few clusters\n",
    "- the best number of clusters ideal would be one in the \"elbow\" of the inertial graph\n",
    "- this is where the inertia begins to decrease more slowly"
   ]
  },
  {
   "attachments": {
    "image.png": {
     "image/png": "[encoded data removed]"
    }
   },
   "cell_type": "markdown",
   "id": "f040d315",
   "metadata": {},
   "source": [
    "for example here in this graph, this would be the point with 3 clusters ![image.png](attachment:image.png)"
   ]
  },
  {
   "cell_type": "code",
   "execution_count": null,
   "id": "c4849e44",
   "metadata": {},
   "outputs": [],
   "source": [
    "#using a loop\n",
    "ks = range(1, 6)\n",
    "inertias = []\n",
    "\n",
    "#for each avlue of k cluster, perform the following steps:\n",
    "for k in ks:\n",
    "    # a KMeans instance with k clusters: model\n",
    "    model = KMeans(n_clusters=k)\n",
    "    \n",
    "    # fit model to samples\n",
    "    model.fit(samples)\n",
    "    \n",
    "    # append the inertia to the list of inertias\n",
    "    inertias.append(model.inertia_)\n",
    "    \n",
    "# Plot ks vs inertias\n",
    "plt.plot(ks, inertias, '-o')\n",
    "plt.xlabel('number of clusters, k')\n",
    "plt.ylabel('inertia')\n",
    "plt.xticks(ks)\n",
    "plt.show()"
   ]
  },
  {
   "cell_type": "code",
   "execution_count": null,
   "id": "e9f09d09",
   "metadata": {},
   "outputs": [],
   "source": [
    "#a couple of other things that can be done\n",
    "\n",
    "#creating a DataFrame with clusters and varieties as columns: df\n",
    "df = pd.DataFrame({'labels': labels, 'varieties': varieties})\n",
    "\n",
    "# Create crosstab: ct\n",
    "ct = pd.crosstab(df['labels'], df['varieties'])"
   ]
  },
  {
   "cell_type": "markdown",
   "id": "95a4cd3d",
   "metadata": {},
   "source": [
    "#### Feature Variance"
   ]
  },
  {
   "cell_type": "markdown",
   "id": "ac4b5dc8",
   "metadata": {},
   "source": [
    "- The variance of a feature measures the spread of its values.\n",
    "- **the feature variance** corresponds to its feature influence of the clustering algorithm"
   ]
  },
  {
   "cell_type": "markdown",
   "id": "ba40444f",
   "metadata": {},
   "source": [
    "##### How can feature variance be handled?"
   ]
  },
  {
   "cell_type": "markdown",
   "id": "d72d6bcc",
   "metadata": {},
   "source": [
    "- to give every feature an \"equal\" chance, the data needs to be transformed so that features have equal variaane."
   ]
  },
  {
   "cell_type": "markdown",
   "id": "ea1eedb6",
   "metadata": {},
   "source": [
    "#### StandardScaler"
   ]
  },
  {
   "cell_type": "markdown",
   "id": "b00fd6e4",
   "metadata": {},
   "source": [
    "- an example of a Pre-Processing step\n",
    "- transforms every feature to have mean 0 and variance 1\n",
    "- these resulting \"standardized\" features can be very useful"
   ]
  },
  {
   "cell_type": "markdown",
   "id": "88c225d5",
   "metadata": {},
   "source": [
    "#### Other Pre-Processing steps available"
   ]
  },
  {
   "cell_type": "markdown",
   "id": "29ec6e04",
   "metadata": {},
   "source": [
    "- MaxAbsScaler\n",
    "- Normalizer"
   ]
  },
  {
   "cell_type": "code",
   "execution_count": null,
   "id": "3bca334d",
   "metadata": {},
   "outputs": [],
   "source": [
    "from sklearn.preprocessing import StandardScaler\n",
    "\n",
    "#createa a StandardScaler object and fit it to the samples\n",
    "scaler = StandardScaler()\n",
    "scaler.fit(samples)\n",
    "StandardScaler(copy=True, with_mean=True, with_std=True)\n",
    "\n",
    "#the transform method now can be used to standardize any samples\n",
    "samples_scaled = scaler.transform(samples)"
   ]
  },
  {
   "cell_type": "markdown",
   "id": "cb3aa785",
   "metadata": {},
   "source": [
    "#### Sklearn pipeline"
   ]
  },
  {
   "cell_type": "markdown",
   "id": "2aae3007",
   "metadata": {},
   "source": [
    "- data flows from one step into the next automatically by fitting multiple stes into it"
   ]
  },
  {
   "cell_type": "code",
   "execution_count": null,
   "id": "52854e69",
   "metadata": {},
   "outputs": [],
   "source": [
    "#the first steps: creating a StandardScaler() and KMeans() object\n",
    "from sklearn.preprocessing import StandardScaler\n",
    "from sklearn.cluster import KMeans\n",
    "scaler = StandardScaler()\n",
    "kmeans = KMeans(n_clusters=3)\n",
    "\n",
    "#we could have just as well used \"Normalizer()\"\n",
    "#from sklearn.preprocessing import Normalizer\n",
    "#normalizer = Normalizer()\n",
    "\n",
    "#import the make_pipeline from sklearn\n",
    "from sklearn.pipeline import make_pipeline\n",
    "\n",
    "#apply the make_pipeline to the steps you want to create\n",
    "#in this scenario simply just the scaler and kmeans objects\n",
    "pipeline = make_pipeline(scaler, kmeans)\n",
    "\n",
    "#pipeline = make_pipeline(normalizer, kmeans)\n",
    "\n",
    "#use the fit method of the pipeline to fit both scaler and kmeans\n",
    "pipeline.fit(samples)\n",
    "\n",
    "#use the predict method to obtain the cluster labels\n",
    "labels = pipeline.predict(samples)"
   ]
  }
 ],
 "metadata": {
  "kernelspec": {
   "display_name": "Python 3 (ipykernel)",
   "language": "python",
   "name": "python3"
  },
  "language_info": {
   "codemirror_mode": {
    "name": "ipython",
    "version": 3
   },
   "file_extension": ".py",
   "mimetype": "text/x-python",
   "name": "python",
   "nbconvert_exporter": "python",
   "pygments_lexer": "ipython3",
   "version": "3.9.7"
  }
 },
 "nbformat": 4,
 "nbformat_minor": 5
}
