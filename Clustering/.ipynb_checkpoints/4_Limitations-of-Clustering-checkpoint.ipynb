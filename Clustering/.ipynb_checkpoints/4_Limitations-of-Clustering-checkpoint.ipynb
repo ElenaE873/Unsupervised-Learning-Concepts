{
 "cells": [
  {
   "cell_type": "markdown",
   "id": "fb5b0c78",
   "metadata": {},
   "source": [
    "### Limitations of Clustering"
   ]
  },
  {
   "cell_type": "markdown",
   "id": "db20a02a",
   "metadata": {},
   "source": [
    "- the challenge to find the right number of clusters (the elbow method may not always work)\n",
    "- impact of seeds\n",
    "- bias toward equal sized clusters\n",
    "- clustering is an exploratory phase of analysis and it may come with some trial and error"
   ]
  },
  {
   "cell_type": "markdown",
   "id": "597f7548",
   "metadata": {},
   "source": [
    "#### Impacts of Seeds"
   ]
  },
  {
   "cell_type": "markdown",
   "id": "bfe3e6df",
   "metadata": {},
   "source": [
    "The process of defining the initial cluster centers is random.  This initialization can affect the final clusters."
   ]
  },
  {
   "cell_type": "markdown",
   "id": "e50f1fb9",
   "metadata": {},
   "source": [
    "To get **consistent** results when running k-means clustering on the same dataset multiple times, it's good to set the initialization parameters for random number generation."
   ]
  },
  {
   "cell_type": "code",
   "execution_count": null,
   "id": "bc95a2ff",
   "metadata": {},
   "outputs": [],
   "source": [
    "#initializing a random seed\n",
    "from numpy import random\n",
    "\n",
    "random.seed(12)"
   ]
  }
 ],
 "metadata": {
  "kernelspec": {
   "display_name": "Python 3 (ipykernel)",
   "language": "python",
   "name": "python3"
  },
  "language_info": {
   "codemirror_mode": {
    "name": "ipython",
    "version": 3
   },
   "file_extension": ".py",
   "mimetype": "text/x-python",
   "name": "python",
   "nbconvert_exporter": "python",
   "pygments_lexer": "ipython3",
   "version": "3.9.7"
  }
 },
 "nbformat": 4,
 "nbformat_minor": 5
}
