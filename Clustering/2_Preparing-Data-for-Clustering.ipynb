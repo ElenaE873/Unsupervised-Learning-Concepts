{
 "cells": [
  {
   "cell_type": "markdown",
   "id": "b2129e09",
   "metadata": {},
   "source": [
    "#### Why do we need data preparation for Clustering?\n",
    "- variables have incomparable units\n",
    "- variables with the same units have vastly different scales and variances\n",
    "- data in raw form may lead to bias in clustering\n",
    "- clusters may be heavily dependent on one variable"
   ]
  },
  {
   "cell_type": "markdown",
   "id": "67ce994f",
   "metadata": {},
   "source": [
    "#### Solution?\n",
    "- Normalization of individual variables\n",
    "    - rescale the data to a standard deviation of 1\n",
    "    - dividing its value by its standard deviation"
   ]
  },
  {
   "cell_type": "code",
   "execution_count": null,
   "id": "24c36e9f",
   "metadata": {},
   "outputs": [],
   "source": [
    "x_new = x / std_dev(x)"
   ]
  },
  {
   "cell_type": "code",
   "execution_count": null,
   "id": "3c278394",
   "metadata": {},
   "outputs": [],
   "source": [
    "from scipy.cluster.vq import whiten\n",
    "#whiten performs this type of normalization\n",
    "\n",
    "scaled_data = whiten(data)"
   ]
  },
  {
   "cell_type": "markdown",
   "id": "61cd6ed5",
   "metadata": {},
   "source": [
    "##### illustration of the normalization of data"
   ]
  },
  {
   "cell_type": "code",
   "execution_count": null,
   "id": "19fb7dd8",
   "metadata": {},
   "outputs": [],
   "source": [
    "from matplotlib import pyplot as plt\n",
    "\n",
    "plt.plot(data, label = \"original\")\n",
    "plt.plot(scaled_data, label = \"scaled\")\n",
    "\n",
    "plt.legend()\n",
    "plt.show()"
   ]
  }
 ],
 "metadata": {
  "kernelspec": {
   "display_name": "Python 3 (ipykernel)",
   "language": "python",
   "name": "python3"
  },
  "language_info": {
   "codemirror_mode": {
    "name": "ipython",
    "version": 3
   },
   "file_extension": ".py",
   "mimetype": "text/x-python",
   "name": "python",
   "nbconvert_exporter": "python",
   "pygments_lexer": "ipython3",
   "version": "3.9.7"
  }
 },
 "nbformat": 4,
 "nbformat_minor": 5
}
