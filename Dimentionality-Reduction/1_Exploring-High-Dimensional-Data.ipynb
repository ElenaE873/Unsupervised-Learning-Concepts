{
 "cells": [
  {
   "cell_type": "markdown",
   "id": "c459e5d4",
   "metadata": {},
   "source": [
    "#### Use of DImentionality Reduction:"
   ]
  },
  {
   "cell_type": "markdown",
   "id": "3365b0b6",
   "metadata": {},
   "source": [
    "- less complex dataset\n",
    "- less space to store\n",
    "- less computation time\n",
    "- have lower chance of model overfitting"
   ]
  },
  {
   "cell_type": "markdown",
   "id": "02286ad9",
   "metadata": {},
   "source": [
    "##### some brief things we can do with dimensions"
   ]
  },
  {
   "cell_type": "code",
   "execution_count": null,
   "id": "19a6bc2f",
   "metadata": {},
   "outputs": [],
   "source": [
    "#dropping a column (axis=1)\n",
    "df.drop(\"column_name\", axis=1)"
   ]
  },
  {
   "cell_type": "code",
   "execution_count": null,
   "id": "ca80382c",
   "metadata": {},
   "outputs": [],
   "source": [
    "#visualizing small to medium dataset\n",
    "#one-by-one comparison of each NUMERIC feature in the dataset\n",
    "sns.pairplot(df, hue=\"categorical_column\", diag_kind='hist')"
   ]
  },
  {
   "cell_type": "markdown",
   "id": "a523c986",
   "metadata": {},
   "source": [
    "#### OVERFITTING on high-dimensional data"
   ]
  },
  {
   "cell_type": "markdown",
   "id": "3b239c00",
   "metadata": {},
   "source": [
    "##### testing a model for overfitting"
   ]
  },
  {
   "cell_type": "markdown",
   "id": "2e91783e",
   "metadata": {},
   "source": [
    "1 - Creating the Train/Split datasets"
   ]
  },
  {
   "cell_type": "code",
   "execution_count": null,
   "id": "87ce74ed",
   "metadata": {},
   "outputs": [],
   "source": [
    "from sklearn.model_selection import train_test_split\n",
    "\n",
    "# Select column as the feature to be predicted (y)\n",
    "y = ansur_df['target_feature']\n",
    "\n",
    "# Remove the target column to create the training data\n",
    "X = ansur_df.drop('target_feature', axis=1)\n",
    "\n",
    "# Perform a 70% train and 30% test data split\n",
    "X_train, X_test, y_train, y_test = train_test_split(X, y, test_size=0.3)\n",
    "\n",
    "print(\"{} rows in test set vs. {} in training set. {} Features.\".format(X_test.shape[0], \n",
    "                                                                        X_train.shape[0], \n",
    "                                                                        X_test.shape[1]))"
   ]
  },
  {
   "cell_type": "markdown",
   "id": "231f59ee",
   "metadata": {},
   "source": [
    "2 - Training the model to the dataset and evaluating accuracy"
   ]
  },
  {
   "cell_type": "code",
   "execution_count": null,
   "id": "9cb8e9a7",
   "metadata": {},
   "outputs": [],
   "source": [
    "# Import SVC from sklearn.svm and accuracy_score from sklearn.metrics\n",
    "from sklearn.svm import SVC\n",
    "from sklearn.metrics import accuracy_score\n",
    "\n",
    "# Create an instance of the Support Vector Classification class\n",
    "svc = SVC()\n",
    "\n",
    "# Fit the model to the training data\n",
    "svc.fit(X_train, y_train)\n",
    "\n",
    "# Calculate accuracy scores on both train and test data\n",
    "accuracy_train = accuracy_score(y_train, svc.predict(X_train))\n",
    "accuracy_test = accuracy_score(y_test, svc.predict(X_test))\n",
    "\n",
    "print(\"{0:.1%} accuracy on test set vs. {1:.1%} on training set\".format(accuracy_test, \n",
    "                                                                        accuracy_train))"
   ]
  },
  {
   "cell_type": "code",
   "execution_count": null,
   "id": "3f2e93cd",
   "metadata": {},
   "outputs": [],
   "source": []
  }
 ],
 "metadata": {
  "kernelspec": {
   "display_name": "Python 3 (ipykernel)",
   "language": "python",
   "name": "python3"
  },
  "language_info": {
   "codemirror_mode": {
    "name": "ipython",
    "version": 3
   },
   "file_extension": ".py",
   "mimetype": "text/x-python",
   "name": "python",
   "nbconvert_exporter": "python",
   "pygments_lexer": "ipython3",
   "version": "3.9.7"
  }
 },
 "nbformat": 4,
 "nbformat_minor": 5
}
